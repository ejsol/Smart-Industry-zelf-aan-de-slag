{
 "cells": [
  {
   "cell_type": "markdown",
   "metadata": {},
   "source": [
    "This is the start of the program where the Python libraries are loaded"
   ]
  },
  {
   "cell_type": "code",
   "execution_count": 1,
   "metadata": {},
   "outputs": [
    {
     "ename": "ModuleNotFoundError",
     "evalue": "No module named 'grove'",
     "output_type": "error",
     "traceback": [
      "\u001b[0;31m---------------------------------------------------------------------------\u001b[0m",
      "\u001b[0;31mModuleNotFoundError\u001b[0m                       Traceback (most recent call last)",
      "\u001b[0;32m<ipython-input-1-39d6b41d06c6>\u001b[0m in \u001b[0;36m<module>\u001b[0;34m\u001b[0m\n\u001b[1;32m     10\u001b[0m \u001b[0;32mimport\u001b[0m \u001b[0mtime\u001b[0m\u001b[0;34m\u001b[0m\u001b[0;34m\u001b[0m\u001b[0m\n\u001b[1;32m     11\u001b[0m \u001b[0;32mfrom\u001b[0m \u001b[0mdatetime\u001b[0m \u001b[0;32mimport\u001b[0m \u001b[0mdatetime\u001b[0m\u001b[0;34m\u001b[0m\u001b[0;34m\u001b[0m\u001b[0m\n\u001b[0;32m---> 12\u001b[0;31m \u001b[0;32mfrom\u001b[0m \u001b[0mgrove\u001b[0m\u001b[0;34m.\u001b[0m\u001b[0mbutton\u001b[0m \u001b[0;32mimport\u001b[0m \u001b[0mButton\u001b[0m\u001b[0;34m\u001b[0m\u001b[0;34m\u001b[0m\u001b[0m\n\u001b[0m\u001b[1;32m     13\u001b[0m \u001b[0;32mfrom\u001b[0m \u001b[0mgrove\u001b[0m\u001b[0;34m.\u001b[0m\u001b[0mfactory\u001b[0m \u001b[0;32mimport\u001b[0m \u001b[0mFactory\u001b[0m\u001b[0;34m\u001b[0m\u001b[0;34m\u001b[0m\u001b[0m\n\u001b[1;32m     14\u001b[0m \u001b[0;32mfrom\u001b[0m \u001b[0mgrove\u001b[0m\u001b[0;34m.\u001b[0m\u001b[0mtemperature\u001b[0m \u001b[0;32mimport\u001b[0m \u001b[0mTemper\u001b[0m\u001b[0;34m\u001b[0m\u001b[0;34m\u001b[0m\u001b[0m\n",
      "\u001b[0;31mModuleNotFoundError\u001b[0m: No module named 'grove'"
     ]
    }
   ],
   "source": [
    "#!/usr/bin/python3\n",
    "# -*- coding: utf-8 -*-\n",
    "#\n",
    "# (c) EJSol 12 sept 2019 freeware for use in Smart Industry - Zelf Aan de Slag workshop (SIZAS)\n",
    "#\n",
    "# standalone, very simple, no user interface,\n",
    "# start from command line, control the doors and log the accurate warehouse temperature\n",
    "# this version -1x- is a little different in amount of grove sensors (only one high accuracy temperature, not three)\n",
    "\n",
    "import time\n",
    "from datetime import datetime\n",
    "from grove.button import Button\n",
    "from grove.factory import Factory\n",
    "from grove.temperature import Temper\n",
    "from grove.gpio import GPIO"
   ]
  },
  {
   "cell_type": "markdown",
   "metadata": {},
   "source": [
    "Controlling the relays is simple, you need to figure out the address of a pin/connecter and then you can set the bit value and with it the digital output on/off. \n",
    "\n",
    "Lateron the relay for door 1 (symbolic address door_1_relay) is address 26, so the call becomes GroveRelay(26)\n",
    "and the object door_1_relay (the self in the class definition) is set on/off by the statement: door_1_relay.on of .off"
   ]
  },
  {
   "cell_type": "code",
   "execution_count": null,
   "metadata": {},
   "outputs": [],
   "source": [
    "class GroveRelay(GPIO):\n",
    "    def __init__(self, pin):\n",
    "        super(GroveRelay, self).__init__(pin, GPIO.OUT)\n",
    "\n",
    "    def on(self):\n",
    "        self.write(1)\n",
    "\n",
    "    def off(self):\n",
    "        self.write(0)"
   ]
  },
  {
   "cell_type": "markdown",
   "metadata": {},
   "source": [
    "Below things get more complicated as a LedButton does two things. An output (the Led) is still simple, similar to the relay above, see the last lines of the class definition. The input, the Button, is complex. It requires an (interupt) event and in reallife one has to deal with jitter of whether the button around a few millisecond is pressed or not. But we focus here on explaining the event handling.  \n",
    "\n",
    "An event has an event handler and the definition of an event. Below we first define the event: on_press and then the event handler. In our case the event handler (turns on the LED at max briteness and) determines whether the button status has changed from level. This is the most simple way to describe it"
   ]
  },
  {
   "cell_type": "code",
   "execution_count": null,
   "metadata": {},
   "outputs": [],
   "source": [
    "class GroveLedButton(object):\n",
    "    def __init__(self, pin):\n",
    "        # Low = pressed\n",
    "        self.__led = Factory.getOneLed(\"GPIO-HIGH\", pin)\n",
    "        self.__btn = Factory.getButton(\"GPIO-LOW\", pin + 1)\n",
    "        self.__led.light(False)\n",
    "        self.__on_release = None\n",
    "        self.__on_press = None\n",
    "        self.__btn.on_event(self, GroveLedButton.__handle_event)\n",
    "\n",
    "    @property\n",
    "    def on_press(self):\n",
    "        return self.__on_press\n",
    "\n",
    "    @on_press.setter\n",
    "    def on_press(self, callback):\n",
    "        if not callable(callback):\n",
    "            return\n",
    "        self.__on_press = callback\n",
    "\n",
    "    def __handle_event(self, evt):\n",
    "\n",
    "        self.__led.brightness = self.__led.MAX_BRIGHT\n",
    "\n",
    "        if evt[\"code\"] == Button.EV_LEVEL_CHANGED:\n",
    "            if evt[\"pressed\"]:\n",
    "                if callable(self.__on_press):\n",
    "                    self.__on_press()\n",
    "\n",
    "    def led_on(self):\n",
    "        self.__led.light(True)\n",
    "\n",
    "    def led_off(self):\n",
    "        self.__led.light(False)"
   ]
  },
  {
   "cell_type": "markdown",
   "metadata": {},
   "source": [
    "Ok, globar variables are not advised, read normally considered not done, but for this small program no problem and straighforward."
   ]
  },
  {
   "cell_type": "code",
   "execution_count": null,
   "metadata": {},
   "outputs": [],
   "source": [
    "Grove = GroveLedButton\n",
    "\n",
    "main_state = False\n",
    "door_1_state = False\n",
    "door_2_state = False"
   ]
  },
  {
   "cell_type": "markdown",
   "metadata": {},
   "source": [
    "Below we assign the buttons and relay to I/O addresses. If the connectors at the Grove Pi hat are changed, then you need to figure out with button/relay is related to which value and adapt the code below accordingly.\n",
    "\n",
    "Then the two I2C temperature sensors are coupled to the I2C addresses. This is not standard available in today's Grove library. If you experiment yourself use one analogue sensor (not so accurate) and one high accuracy I2C sensor. In the SIZAS documentation it is written what is needed to change the grove library and to solder the second I2C sensor to another address. \n",
    "\n",
    "If everything has gone according to plan, then on the console you will receive a first printout statement  "
   ]
  },
  {
   "cell_type": "code",
   "execution_count": null,
   "metadata": {},
   "outputs": [],
   "source": [
    "def main():\n",
    "\n",
    "    global main_state, door_1_state, door_2_state\n",
    "\n",
    "    main_button = GroveLedButton(5)\n",
    "    door_1_button = GroveLedButton(18)\n",
    "    door_2_button = GroveLedButton(16)\n",
    "    main_relay = GroveRelay(22)\n",
    "    door_1_relay = GroveRelay(26)\n",
    "    door_2_relay = GroveRelay(24)\n",
    "\n",
    "    sensor_d = Factory.getTemper(\"MCP9808-I2C\", 0x18)\n",
    "    sensor_d.resolution(Temper.RES_1_16_CELSIUS)\n",
    "    sensor_w = Factory.getTemper(\"MCP9808-I2C\", 0x19)\n",
    "    sensor_w.resolution(Temper.RES_1_16_CELSIUS)\n",
    "\n",
    "    print('Time Temp.: door & warehouse (C)')"
   ]
  },
  {
   "cell_type": "markdown",
   "metadata": {},
   "source": [
    "Now comes logic of the input (button) output (relay) part where only if the system is turned on, the switches 1 and 2 can control the door relays of the doors 1 and 2 with the condition that if door 1 is open, door 2 must be closed and vice versa. "
   ]
  },
  {
   "cell_type": "code",
   "execution_count": null,
   "metadata": {},
   "outputs": [],
   "source": [
    "    def on_press_main():\n",
    "        global main_state, door_1_state, door_2_state\n",
    "        if main_state:\n",
    "            main_state = False\n",
    "            door_1_state = False\n",
    "            door_2_state = False\n",
    "            main_relay.off()\n",
    "            door_1_relay.off()\n",
    "            door_2_relay.off()\n",
    "            main_button.led_off()\n",
    "            door_1_button.led_off()\n",
    "            door_2_button.led_off()\n",
    "        else:\n",
    "            main_state = True\n",
    "            main_relay.on()\n",
    "            main_button.led_on()\n",
    "\n",
    "    def on_press_1():\n",
    "        global main_state, door_1_state\n",
    "        if main_state:\n",
    "            if door_1_state:\n",
    "                door_1_state = False\n",
    "                door_1_relay.off()\n",
    "                door_1_button.led_off()\n",
    "            else:\n",
    "                if not door_2_state:\n",
    "                    door_1_state = True\n",
    "                    door_1_relay.on()\n",
    "                    door_1_button.led_on()\n",
    "\n",
    "    def on_press_2():\n",
    "        global main_state, door_2_state\n",
    "        if main_state:\n",
    "            if door_2_state:\n",
    "                door_2_state = False\n",
    "                door_2_relay.off()\n",
    "                door_2_button.led_off()\n",
    "            else:\n",
    "                if not door_1_state:\n",
    "                    door_2_state = True\n",
    "                    door_2_relay.on()\n",
    "                    door_2_button.led_on()"
   ]
  },
  {
   "cell_type": "markdown",
   "metadata": {},
   "source": [
    "Now, once you press a button, then the corresponding function is called, i.e. if the event that e.g. the main_button is pressed the event handler is trigger and the function on_press_main is executed. This is a little wierd to grasp this Python interupt event mechanism. Where as below in the while loop the system sleeps, any interupt event of the three interupt events can occure and if one does, the function is executed. Nothing more.  "
   ]
  },
  {
   "cell_type": "code",
   "execution_count": null,
   "metadata": {},
   "outputs": [],
   "source": [
    "    main_button.on_press = on_press_main\n",
    "    door_1_button.on_press = on_press_1\n",
    "    door_2_button.on_press = on_press_2"
   ]
  },
  {
   "cell_type": "markdown",
   "metadata": {},
   "source": [
    "Now everthing is set ready and we go 1 second to sleep and then write an update of the temperature, sleep again, write again, etc until the user interupts the program by a keyboard interupt by typing e.g. Ctrl-C. In parallel during a sleep the button interupts can occure. "
   ]
  },
  {
   "cell_type": "code",
   "execution_count": null,
   "metadata": {},
   "outputs": [],
   "source": [
    "    while True:\n",
    "        try:\n",
    "            time.sleep(1)\n",
    "            print('{}   {:.1f}   {:.1f}'.format(datetime.now().strftime(\"%X\"), sensor_d.temperature, sensor_w.temperature))\n",
    "        except KeyboardInterrupt:\n",
    "            main_relay.off()\n",
    "            door_1_relay.off()\n",
    "            door_2_relay.off()\n",
    "            main_button.led_off()\n",
    "            door_1_button.led_off()\n",
    "            door_2_button.led_off()\n",
    "            print(\"exit\")\n",
    "            exit(1)\n",
    "\n",
    "\n",
    "if __name__ == '__main__':\n",
    "    main()"
   ]
  }
 ],
 "metadata": {
  "anaconda-cloud": {},
  "kernelspec": {
   "display_name": "Python 3",
   "language": "python",
   "name": "python3"
  },
  "language_info": {
   "codemirror_mode": {
    "name": "ipython",
    "version": 3
   },
   "file_extension": ".py",
   "mimetype": "text/x-python",
   "name": "python",
   "nbconvert_exporter": "python",
   "pygments_lexer": "ipython3",
   "version": "3.8.5"
  },
  "toc-autonumbering": false,
  "toc-showcode": true,
  "toc-showmarkdowntxt": false,
  "toc-showtags": false
 },
 "nbformat": 4,
 "nbformat_minor": 4
}
