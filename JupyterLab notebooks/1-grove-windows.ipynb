{
 "cells": [
  {
   "cell_type": "markdown",
   "metadata": {},
   "source": [
    "This is the start of the program where the Python libraries are loaded"
   ]
  },
  {
   "cell_type": "code",
   "execution_count": 1,
   "metadata": {
    "collapsed": true,
    "jupyter": {
     "outputs_hidden": true
    }
   },
   "outputs": [
    {
     "ename": "ModuleNotFoundError",
     "evalue": "No module named 'grove'",
     "output_type": "error",
     "traceback": [
      "\u001b[0;31m---------------------------------------------------------------------------\u001b[0m",
      "\u001b[0;31mModuleNotFoundError\u001b[0m                       Traceback (most recent call last)",
      "\u001b[0;32m<ipython-input-1-ed7b0be556c2>\u001b[0m in \u001b[0;36m<module>\u001b[0;34m\u001b[0m\n\u001b[1;32m     11\u001b[0m \u001b[0;32mimport\u001b[0m \u001b[0mtkinter\u001b[0m \u001b[0;32mas\u001b[0m \u001b[0mtk\u001b[0m    \u001b[0;31m# conflict with Button\u001b[0m\u001b[0;34m\u001b[0m\u001b[0;34m\u001b[0m\u001b[0m\n\u001b[1;32m     12\u001b[0m \u001b[0;34m\u001b[0m\u001b[0m\n\u001b[0;32m---> 13\u001b[0;31m \u001b[0;32mfrom\u001b[0m \u001b[0mgrove\u001b[0m\u001b[0;34m.\u001b[0m\u001b[0mbutton\u001b[0m \u001b[0;32mimport\u001b[0m \u001b[0mButton\u001b[0m\u001b[0;34m\u001b[0m\u001b[0;34m\u001b[0m\u001b[0m\n\u001b[0m\u001b[1;32m     14\u001b[0m \u001b[0;32mfrom\u001b[0m \u001b[0mgrove\u001b[0m\u001b[0;34m.\u001b[0m\u001b[0mfactory\u001b[0m \u001b[0;32mimport\u001b[0m \u001b[0mFactory\u001b[0m\u001b[0;34m\u001b[0m\u001b[0;34m\u001b[0m\u001b[0m\n\u001b[1;32m     15\u001b[0m \u001b[0;32mfrom\u001b[0m \u001b[0mgrove\u001b[0m\u001b[0;34m.\u001b[0m\u001b[0mtemperature\u001b[0m \u001b[0;32mimport\u001b[0m \u001b[0mTemper\u001b[0m\u001b[0;34m\u001b[0m\u001b[0;34m\u001b[0m\u001b[0m\n",
      "\u001b[0;31mModuleNotFoundError\u001b[0m: No module named 'grove'"
     ]
    }
   ],
   "source": [
    "# %load /Users/ej/PycharmProjects/Smart-Industry-zelf-aan-de-slag/Pi/1-grove-windows.py\n",
    "#!/usr/bin/python3\n",
    "#\n",
    "# (c) EJSol 8 jun 2019 freeware for use in Smart Industry - Zelf Aan de Slag workshop (SIZAS)\n",
    "#\n",
    "# standalone, start from windows environment, with full user interface to control doors and update temperature\n",
    "# and control the doors with I/O too and log the accurate warehouse temperature and stop button in user interface\n",
    "# this version -1x- is a little different in amount of grove sensors (only one high accuracy temperature, not three)\n",
    "\n",
    "import time\n",
    "import tkinter as tk    # conflict with Button\n",
    "\n",
    "from grove.button import Button\n",
    "from grove.factory import Factory\n",
    "from grove.temperature import Temper\n",
    "# from grove.adc import ADC\n",
    "from grove.gpio import GPIO"
   ]
  },
  {
   "cell_type": "markdown",
   "metadata": {},
   "source": [
    "Controlling the relays is simple, you need to figure out the address of a pin/connecter and then you can set the bit value and with it the digital output on/off. \n",
    "\n",
    "Lateron the relay for door 1 (symbolic address door_1_relay) is address 26, so the call becomes GroveRelay(26)\n",
    "and the object door_1_relay (the self in the class definition) is set on/off by the statement: door_1_relay.on of .off"
   ]
  },
  {
   "cell_type": "code",
   "execution_count": 2,
   "metadata": {
    "collapsed": true,
    "jupyter": {
     "outputs_hidden": true
    }
   },
   "outputs": [
    {
     "ename": "NameError",
     "evalue": "name 'GPIO' is not defined",
     "output_type": "error",
     "traceback": [
      "\u001b[0;31m---------------------------------------------------------------------------\u001b[0m",
      "\u001b[0;31mNameError\u001b[0m                                 Traceback (most recent call last)",
      "\u001b[0;32m<ipython-input-2-d760e8b2b575>\u001b[0m in \u001b[0;36m<module>\u001b[0;34m\u001b[0m\n\u001b[0;32m----> 1\u001b[0;31m \u001b[0;32mclass\u001b[0m \u001b[0mGroveRelay\u001b[0m\u001b[0;34m(\u001b[0m\u001b[0mGPIO\u001b[0m\u001b[0;34m)\u001b[0m\u001b[0;34m:\u001b[0m\u001b[0;34m\u001b[0m\u001b[0;34m\u001b[0m\u001b[0m\n\u001b[0m\u001b[1;32m      2\u001b[0m     \u001b[0;32mdef\u001b[0m \u001b[0m__init__\u001b[0m\u001b[0;34m(\u001b[0m\u001b[0mself\u001b[0m\u001b[0;34m,\u001b[0m \u001b[0mpin\u001b[0m\u001b[0;34m)\u001b[0m\u001b[0;34m:\u001b[0m\u001b[0;34m\u001b[0m\u001b[0;34m\u001b[0m\u001b[0m\n\u001b[1;32m      3\u001b[0m         \u001b[0msuper\u001b[0m\u001b[0;34m(\u001b[0m\u001b[0mGroveRelay\u001b[0m\u001b[0;34m,\u001b[0m \u001b[0mself\u001b[0m\u001b[0;34m)\u001b[0m\u001b[0;34m.\u001b[0m\u001b[0m__init__\u001b[0m\u001b[0;34m(\u001b[0m\u001b[0mpin\u001b[0m\u001b[0;34m,\u001b[0m \u001b[0mGPIO\u001b[0m\u001b[0;34m.\u001b[0m\u001b[0mOUT\u001b[0m\u001b[0;34m)\u001b[0m\u001b[0;34m\u001b[0m\u001b[0;34m\u001b[0m\u001b[0m\n\u001b[1;32m      4\u001b[0m \u001b[0;34m\u001b[0m\u001b[0m\n\u001b[1;32m      5\u001b[0m     \u001b[0;32mdef\u001b[0m \u001b[0mon\u001b[0m\u001b[0;34m(\u001b[0m\u001b[0mself\u001b[0m\u001b[0;34m)\u001b[0m\u001b[0;34m:\u001b[0m\u001b[0;34m\u001b[0m\u001b[0;34m\u001b[0m\u001b[0m\n",
      "\u001b[0;31mNameError\u001b[0m: name 'GPIO' is not defined"
     ]
    }
   ],
   "source": [
    "class GroveRelay(GPIO):\n",
    "    def __init__(self, pin):\n",
    "        super(GroveRelay, self).__init__(pin, GPIO.OUT)\n",
    "\n",
    "    def on(self):\n",
    "        self.write(1)\n",
    "\n",
    "    def off(self):\n",
    "        self.write(0)"
   ]
  },
  {
   "cell_type": "markdown",
   "metadata": {},
   "source": [
    "Below things get more complicated as a LedButton does two things. An output (the Led) is still simple, similar to the relay above, see the last lines of the class definition. The input, the Button, is complex. It requires an (interupt) event and in reallife one has to deal with jitter of whether the button around a few millisecond is pressed or not. But we focus here on explaining the event handling.  \n",
    "\n",
    "An event has an event handler and the definition of an event. Below we first define the event: on_press and then the event handler. In our case the event handler (turns on the LED at max briteness and) determines whether the button status has changed from level. This is the most simple way to describe it"
   ]
  },
  {
   "cell_type": "code",
   "execution_count": 1,
   "metadata": {},
   "outputs": [],
   "source": [
    "class GroveLedButton(object):\n",
    "    def __init__(self, pin):\n",
    "        # Low = pressed\n",
    "        self.__led = Factory.getOneLed(\"GPIO-HIGH\", pin)\n",
    "        self.__btn = Factory.getButton(\"GPIO-LOW\", pin + 1)\n",
    "        self.__led.light(False)\n",
    "        self.__on_press = None\n",
    "        self.__on_release = None\n",
    "        self.__btn.on_event(self, GroveLedButton.__handle_event)\n",
    "\n",
    "    @property\n",
    "    def on_press(self):\n",
    "        return self.__on_press\n",
    "\n",
    "    @on_press.setter\n",
    "    def on_press(self, callback):\n",
    "        if not callable(callback):\n",
    "            return\n",
    "        self.__on_press = callback\n",
    "\n",
    "    def __handle_event(self, evt):\n",
    "\n",
    "        self.__led.brightness = self.__led.MAX_BRIGHT\n",
    "\n",
    "        if evt[\"code\"] == Button.EV_LEVEL_CHANGED:\n",
    "            if evt[\"pressed\"]:\n",
    "                if callable(self.__on_press):\n",
    "                    self.__on_press()\n",
    "\n",
    "    def led_on(self):\n",
    "        self.__led.light(True)\n",
    "\n",
    "    def led_off(self):\n",
    "        self.__led.light(False)"
   ]
  },
  {
   "cell_type": "markdown",
   "metadata": {},
   "source": [
    "This is the main piece of code. During the init variables are initialized, I/O is coupled to addresses, but the user interface with the tkinter library is used. Tkinter is not easy and required some testing around before all click-on button in the window is right. In just a few words, it is a lot of nitty gritty coding. But with some peculiar things one has to notice. The init of the button links several buttons to interupt event handlers which gets activated once on the windows screen there is a mouse click (similar to event once a switch is flipped on/off). \n",
    "\n",
    "Don't worry to much if you can't follow the code for the moment, it requires more background on tkinter use. \n",
    "If intestered read the chapters in Programming Python 4th ed. by Marc Lutz (or Learning Python 5th ed). "
   ]
  },
  {
   "cell_type": "code",
   "execution_count": 4,
   "metadata": {},
   "outputs": [],
   "source": [
    "class MyGroveStandAloneApp(tk.Frame):\n",
    "\n",
    "    def __init__(self, master=None):\n",
    "\n",
    "        self.warehouse_state = False\n",
    "        self.door_outside_state = False\n",
    "        self.door_inside_state = False\n",
    "        self.door_count = 0\n",
    "        self.system_on_time = 0\n",
    "        self.system_on = 0\n",
    "        self.system_delta_time = 0\n",
    "        self.door_open_time = 0\n",
    "        self.door_time = 0\n",
    "\n",
    "        self.warehouse_button = GroveLedButton(5)\n",
    "        self.door_outside_button = GroveLedButton(18)\n",
    "        self.door_inside_button = GroveLedButton(16)\n",
    "\n",
    "        self.warehouse_button.on_press = self.on_press_main\n",
    "        self.door_outside_button.on_press = self.on_press_door_outside\n",
    "        self.door_inside_button.on_press = self.on_press_door_inside\n",
    "\n",
    "        self.warehouse_relay = GroveRelay(22)\n",
    "        self.door_outside_relay = GroveRelay(26)\n",
    "        self.door_inside_relay = GroveRelay(24)\n",
    "\n",
    "        self.sensor_d = Factory.getTemper(\"MCP9808-I2C\", 0x18)\n",
    "        self.sensor_d.resolution(Temper.RES_1_16_CELSIUS)\n",
    "        self.sensor_w = Factory.getTemper(\"MCP9808-I2C\", 0x19)\n",
    "        self.sensor_w.resolution(Temper.RES_1_16_CELSIUS)\n",
    "        print('{:.1f} {:.1f} Door & Warehouse temperature'.format(self.sensor_d.temperature, self.sensor_w.temperature))"
   ]
  },
  {
   "cell_type": "markdown",
   "metadata": {},
   "source": [
    "Above we assigned first the buttons and relay to I/O addresses. If the connectors at the Grove Pi hat are changed, then you need to figure out with button/relay is related to which value and adapt the code below accordingly.\n",
    "\n",
    "Then the two I2C temperature sensors are coupled to the I2C addresses. This is not standard available in today's Grove library. If you experiment yourself use one analogue sensor (not so accurate) and one high accuracy I2C sensor. In the SIZAS documentation it is written what is needed to change the grove library and to solder the second I2C sensor to another address. \n",
    "\n",
    "If everything has gone according to plan, then on the console you will receive a first printout statement  "
   ]
  },
  {
   "cell_type": "markdown",
   "metadata": {},
   "source": [
    "The screen will look like a matrix of 4 columns and 5 rows. \n",
    "\n",
    "system      outside door       inside door  data\n",
    "\n",
    "ON               ON                ON       info\n",
    "\n",
    "status        status            status      info\n",
    "(green/red)\n",
    "\n",
    "OFF            OFF                OFF       info\n",
    "\n",
    " -               -                 -        stop\n",
    " \n",
    " Only the ON OFF button will be attached to an event. "
   ]
  },
  {
   "cell_type": "code",
   "execution_count": 5,
   "metadata": {},
   "outputs": [
    {
     "ename": "RuntimeError",
     "evalue": "super(): no arguments",
     "output_type": "error",
     "traceback": [
      "\u001b[0;31m---------------------------------------------------------------------------\u001b[0m",
      "\u001b[0;31mRuntimeError\u001b[0m                              Traceback (most recent call last)",
      "\u001b[0;32m<ipython-input-5-8692b925ed6a>\u001b[0m in \u001b[0;36m<module>\u001b[0;34m\u001b[0m\n\u001b[1;32m      1\u001b[0m \u001b[0;31m# Handle tkinter part\u001b[0m\u001b[0;34m\u001b[0m\u001b[0;34m\u001b[0m\u001b[0;34m\u001b[0m\u001b[0m\n\u001b[0;32m----> 2\u001b[0;31m \u001b[0msuper\u001b[0m\u001b[0;34m(\u001b[0m\u001b[0;34m)\u001b[0m\u001b[0;34m.\u001b[0m\u001b[0m__init__\u001b[0m\u001b[0;34m(\u001b[0m\u001b[0mmaster\u001b[0m\u001b[0;34m)\u001b[0m\u001b[0;34m\u001b[0m\u001b[0;34m\u001b[0m\u001b[0m\n\u001b[0m\u001b[1;32m      3\u001b[0m \u001b[0mself\u001b[0m\u001b[0;34m.\u001b[0m\u001b[0mmaster\u001b[0m\u001b[0;34m.\u001b[0m\u001b[0mprotocol\u001b[0m\u001b[0;34m(\u001b[0m\u001b[0;34m\"WM_DELETE_WINDOW\"\u001b[0m\u001b[0;34m,\u001b[0m \u001b[0mself\u001b[0m\u001b[0;34m.\u001b[0m\u001b[0mclose_app\u001b[0m\u001b[0;34m)\u001b[0m\u001b[0;34m\u001b[0m\u001b[0;34m\u001b[0m\u001b[0m\n\u001b[1;32m      4\u001b[0m \u001b[0;34m\u001b[0m\u001b[0m\n\u001b[1;32m      5\u001b[0m \u001b[0mself\u001b[0m\u001b[0;34m.\u001b[0m\u001b[0mmaster\u001b[0m\u001b[0;34m.\u001b[0m\u001b[0mwm_title\u001b[0m\u001b[0;34m(\u001b[0m\u001b[0;34m\"Warehouse\"\u001b[0m\u001b[0;34m)\u001b[0m\u001b[0;34m\u001b[0m\u001b[0;34m\u001b[0m\u001b[0m\n",
      "\u001b[0;31mRuntimeError\u001b[0m: super(): no arguments"
     ]
    }
   ],
   "source": [
    "        # Handle tkinter part\n",
    "        super().__init__(master)\n",
    "        self.master.protocol(\"WM_DELETE_WINDOW\", self.close_app)\n",
    "\n",
    "        self.master.wm_title(\"Warehouse\")\n",
    "        self.master.wm_resizable(width=False, height=False)\n",
    "        fontlabel = ('helvetica', 15, 'bold')\n",
    "\n",
    "        # top row names\n",
    "\n",
    "        self.lbl_main = tk.Label(self.master, text=\"System\", width=15, font=fontlabel)\n",
    "        self.lbl_main.grid(row=0, column=0)\n",
    "\n",
    "        self.lbl_door_outside = tk.Label(self.master, text=\"Outside Door\", width=15, font=fontlabel)\n",
    "        self.lbl_door_outside.grid(row=0, column=1)\n",
    "\n",
    "        self.lbl_door_inside = tk.Label(self.master, text=\"Inside Door\", width=15, font=fontlabel)\n",
    "        self.lbl_door_inside.grid(row=0, column=2)\n",
    "\n",
    "        self.lbl_info = tk.Label(self.master, text=\"Data\", width=15, font=fontlabel)\n",
    "        self.lbl_info.grid(row=0, column=3)\n",
    "\n",
    "        # top row with switches (buttons) in on state (red, grayed in off mode)\n",
    "\n",
    "        self.btn_warehouse_on = tk.Button(self.master, text=\"Turn System On\", width=15)\n",
    "        # only screen control after physical switch (event_warehouse_switch) is turned on, then button is also active\n",
    "        self.btn_warehouse_on[\"command\"] = self.on_press_main\n",
    "        self.btn_warehouse_on.grid(row=1, column=0)\n",
    "\n",
    "        self.btn_door_outside_open = tk.Button(self.master, text=\"Open Outside Door\", width=15)\n",
    "        self.btn_door_outside_open[\"command\"] = self.on_press_door_outside\n",
    "        self.btn_door_outside_open.grid(row=1, column=1)\n",
    "\n",
    "        self.btn_door_inside_open = tk.Button(self.master, text=\"Open Inside Door\", width=15)\n",
    "        self.btn_door_inside_open[\"command\"] = self.on_press_door_inside\n",
    "        self.btn_door_inside_open.grid(row=1, column=2)\n",
    "\n",
    "        self.lbl_energy = tk.Label(self.master, text=\"loss: 0\", width=15, height=4)\n",
    "        self.lbl_energy.grid(row=1, column=3)\n",
    "\n",
    "        # Status information in middle row\n",
    "\n",
    "        self.lbl_state_main = tk.Label(self.master, bg='light grey', text=\"OFF\", width=15, height=4)\n",
    "        self.lbl_state_main.grid(row=2, column=0)\n",
    "\n",
    "        self.lbl_state_door_outside = tk.Label(self.master, bg='light grey', text=\"Closed\", width=15, height=4)\n",
    "        self.lbl_state_door_outside.grid(row=2, column=1)\n",
    "\n",
    "        self.lbl_state_door_inside = tk.Label(self.master, bg='light grey', text=\"Closed\", width=15, height=4)\n",
    "        self.lbl_state_door_inside.grid(row=2, column=2)\n",
    "\n",
    "        self.lbl_temperature = tk.Button(self.master, text=\"temperature\")\n",
    "        self.lbl_temperature.grid(row=2, column=3)\n",
    "\n",
    "        # bottom row with switches (buttons) in off state (black button grayed in on)\n",
    "\n",
    "        self.btn_warehouse_off = tk.Button(self.master, text=\"Turn System Off\", width=15)\n",
    "        self.btn_warehouse_off.config(bg='#00C1FF', fg='white')\n",
    "        self.btn_warehouse_off[\"command\"] = self.on_press_main\n",
    "        self.btn_warehouse_off.grid(row=3, column=0)\n",
    "\n",
    "        self.btn_door_outside_close = tk.Button(self.master, text=\"Close Outside Door\", width=15)\n",
    "        self.btn_door_outside_close.config(bg='#00C1FF', fg='white')\n",
    "        self.btn_door_outside_close[\"command\"] = self.on_press_door_outside\n",
    "        self.btn_door_outside_close.grid(row=3, column=1)\n",
    "\n",
    "        self.btn_door_inside_close = tk.Button(self.master, text=\"Close Inside Door\", width=15)\n",
    "        self.btn_door_inside_close.config(bg='#00C1FF', fg='white')\n",
    "        self.btn_door_inside_close[\"command\"] = self.on_press_door_inside\n",
    "        self.btn_door_inside_close.grid(row=3, column=2)\n",
    "\n",
    "        self.lbl_system_on = tk.Label(self.master, text=\"time on: 0\", width=15)\n",
    "        self.lbl_system_on.grid(row=3, column=3)\n",
    "\n",
    "        self.btn_stop = tk.Button(self.master, text=\"Stop\")\n",
    "        self.btn_stop[\"command\"] = self.close_app\n",
    "        self.btn_stop.grid(row=4, column=0)\n",
    "\n",
    "        self.lbl_count = tk.Label(self.master, text=\"# door: 0\", width=15)\n",
    "        self.lbl_count.grid(row=3, column=3)"
   ]
  },
  {
   "cell_type": "markdown",
   "metadata": {},
   "source": [
    "and as last item during the init of this class start the temperature update (which ever 0,5 sec will write an update on the screen. \n",
    "\n",
    "That is it. (except for a proper closure of the windows once the Stop button has been pressed and the function close_app is executed"
   ]
  },
  {
   "cell_type": "code",
   "execution_count": 1,
   "metadata": {},
   "outputs": [],
   "source": [
    "        self.update_temp()\n",
    "\n",
    "    def update_temp(self):\n",
    "        self.lbl_temperature.config(text=\"Doors (C): {:.1f} \\nWareh. (C): {:.1f}\".format(self.sensor_d.temperature,\n",
    "                                                                self.sensor_w.temperature))\n",
    "        self.after(500, self.update_temp)\n",
    "\n",
    "    def close_app(self):\n",
    "        self.warehouse_relay.off()\n",
    "        self.door_outside_relay.off()\n",
    "        self.door_inside_relay.off()\n",
    "        self.warehouse_button.led_off()\n",
    "        self.door_outside_button.led_off()\n",
    "        self.door_inside_button.led_off()\n",
    "\n",
    "        self.warehouse_state = False\n",
    "        self.door_outside_state = False\n",
    "        self.door_inside_state = False\n",
    "\n",
    "        print(\"exit\")\n",
    "        self.master.destroy()"
   ]
  },
  {
   "cell_type": "markdown",
   "metadata": {},
   "source": [
    "Uh, not really, we still need to define the event handlers associated/linked to the buttons defined above.\n",
    "\n",
    "Once a button is pressed, the event handler is activated/called and the logic is adapted, I/O outputs turned on/off and the screen updated."
   ]
  },
  {
   "cell_type": "code",
   "execution_count": 1,
   "metadata": {},
   "outputs": [],
   "source": [
    "    def on_press_main(self):\n",
    "        if self.warehouse_state:\n",
    "            self.warehouse_state = False\n",
    "            self.warehouse_relay.off()\n",
    "            self.warehouse_button.led_off()\n",
    "            self.btn_warehouse_on.config(bg='#EAEAEA', fg='black')\n",
    "            self.lbl_state_main.config(bg='light grey', text=\"Off\")\n",
    "            self.btn_warehouse_off.config(bg='#00C1FF', fg='white')\n",
    "\n",
    "            self.door_outside_state = False\n",
    "            self.door_outside_relay.off()\n",
    "            self.door_outside_button.led_off()\n",
    "            self.btn_door_outside_open.config(bg='#EAEAEA', fg='black')\n",
    "            self.lbl_state_door_outside.config(bg='light grey', text=\"Closed\")\n",
    "            self.btn_door_outside_close.config(bg='#00C1FF', fg='white')\n",
    "\n",
    "            self.door_inside_state = False\n",
    "            self.door_inside_relay.off()\n",
    "            self.door_inside_button.led_off()\n",
    "            self.btn_door_inside_open.config(bg='#EAEAEA', fg='black')\n",
    "            self.lbl_state_door_inside.config(bg='light grey', text=\"Closed\")\n",
    "            self.btn_door_inside_close.config(bg='#00C1FF', fg='white')\n",
    "\n",
    "            # self.system_delta_time = time.time() - self.system_on\n",
    "            # self.system_on_time = self.system_on_time + self.system_delta_time\n",
    "            self.system_on_time = self.system_on_time + time.time() - self.system_on\n",
    "            self.lbl_system_on.config(text=\"time on:\" + str(int(self.system_on_time)))\n",
    "            self.lbl_energy.config(text=\"loss: \" + str(int(self.door_open_time)))\n",
    "            self.lbl_count.config(text=\"# door: \" + str(int(self.door_count)))\n",
    "        else:\n",
    "            self.warehouse_state = True\n",
    "            self.warehouse_relay.on()\n",
    "            self.warehouse_button.led_on()\n",
    "\n",
    "            self.system_on = time.time()\n",
    "\n",
    "            self.btn_warehouse_on.config(bg='#00CC00', fg='white')\n",
    "            self.lbl_state_main.config(bg='#00CC00', text=\"ON\")\n",
    "            self.btn_warehouse_off.config(bg='white', fg='black')\n",
    "\n",
    "    def on_press_door_outside(self):\n",
    "        if self.warehouse_state:\n",
    "            if self.door_outside_state:\n",
    "                self.door_outside_state = False\n",
    "                self.door_outside_relay.off()\n",
    "                self.door_outside_button.led_off()\n",
    "\n",
    "                self.btn_door_outside_open.config(bg='#EAEAEA', fg='black')\n",
    "                self.lbl_state_door_outside.config(bg='light grey', text=\"Closed\")\n",
    "                self.btn_door_outside_close.config(bg='#00C1FF', fg='white')\n",
    "\n",
    "                self.door_count = self.door_count + 1\n",
    "                self.lbl_count.config(text=\"# door: \" + str(int(self.door_count)))\n",
    "                self.door_open_time = self.door_open_time + time.time() - self.door_time\n",
    "                self.lbl_energy.config(text=\"loss: \" + str(int(self.door_open_time)))\n",
    "            else:\n",
    "                if not self.door_inside_state:\n",
    "                    self.door_outside_state = True\n",
    "                    self.door_outside_relay.on()\n",
    "                    self.door_outside_button.led_on()\n",
    "\n",
    "                    self.btn_door_outside_open.config(bg='#FF0000', fg='white')\n",
    "                    self.lbl_state_door_outside.config(bg='#FF0000', text=\"Open\")\n",
    "                    self.btn_door_outside_close.config(bg='white', fg='black')\n",
    "\n",
    "                    self.door_time = time.time()\n",
    "\n",
    "    def on_press_door_inside(self):\n",
    "        if self.warehouse_state:\n",
    "            if self.door_inside_state:\n",
    "                self.door_inside_state = False\n",
    "                self.door_inside_relay.off()\n",
    "                self.door_inside_button.led_off()\n",
    "\n",
    "                self.btn_door_inside_open.config(bg='#EAEAEA', fg='black')\n",
    "                self.lbl_state_door_inside.config(bg='light grey', text=\"Closed\")\n",
    "                self.btn_door_inside_close.config(bg='#00C1FF', fg='white')\n",
    "\n",
    "                self.door_count = self.door_count + 1\n",
    "                self.lbl_count.config(text=\"# door: \" + str(int(self.door_count)))\n",
    "                self.door_open_time = self.door_open_time + time.time() - self.door_time\n",
    "                self.lbl_energy.config(text=\"loss: \" + str(int(self.door_open_time)))\n",
    "            else:\n",
    "                if not self.door_outside_state:\n",
    "                    self.door_inside_state = True\n",
    "                    self.door_inside_relay.on()\n",
    "                    self.door_inside_button.led_on()\n",
    "\n",
    "                    self.btn_door_inside_open.config(bg='#FF0000', fg='white')\n",
    "                    self.lbl_state_door_inside.config(bg='#FF0000', text=\"Open\")\n",
    "                    self.btn_door_inside_close.config(bg='white', fg='black')\n",
    "\n",
    "                    self.door_time = time.time()"
   ]
  },
  {
   "cell_type": "markdown",
   "metadata": {},
   "source": [
    "That is. In the main program only the object root is started as the tkinter windows which runs in a loop until stop is selected and the program ends.\n",
    "\n",
    "Well not completely, if you press the grove buttons instead of the screen button, also the event handlers are called and the same things happens as if a mouse click on the screen changed the button. \n",
    "\n",
    "This was defined some lines directly after the beginning of the __init__ where you can find back the lines:\n",
    "\n",
    "        self.warehouse_button.on_press = self.on_press_main\n",
    "        self.door_outside_button.on_press = self.on_press_door_outside\n",
    "        self.door_inside_button.on_press = self.on_press_door_inside\n",
    "        \n",
    " which calls the same event handler as defined in the buttons as e.g. the warehouse status button line \n",
    "        \n",
    "        self.btn_warehouse_on[\"command\"] = self.on_press_main"
   ]
  },
  {
   "cell_type": "code",
   "execution_count": 1,
   "metadata": {},
   "outputs": [],
   "source": [
    "if __name__ == '__main__':\n",
    "    root = tk.Tk()\n",
    "    MyGroveStandAloneApp(root).mainloop()"
   ]
  }
 ],
 "metadata": {
  "kernelspec": {
   "display_name": "Python 3",
   "language": "python",
   "name": "python3"
  },
  "language_info": {
   "codemirror_mode": {
    "name": "ipython",
    "version": 3
   },
   "file_extension": ".py",
   "mimetype": "text/x-python",
   "name": "python",
   "nbconvert_exporter": "python",
   "pygments_lexer": "ipython3",
   "version": "3.7.6"
  }
 },
 "nbformat": 4,
 "nbformat_minor": 4
}
