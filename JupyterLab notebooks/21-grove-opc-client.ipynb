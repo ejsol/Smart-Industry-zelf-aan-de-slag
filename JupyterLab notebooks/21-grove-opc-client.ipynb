{
 "cells": [
  {
   "cell_type": "code",
   "execution_count": null,
   "metadata": {},
   "outputs": [],
   "source": [
    "#!/usr/bin/python3\n",
    "# -*- coding: utf-8 -*-\n",
    "#\n",
    "# (c) EJSol 12 sept 2019 freeware for use in Smart Industry - Zelf Aan de Slag workshop (SIZAS)\n",
    "#\n",
    "# the source is for the Pi-4  with three sensors,\n",
    "# in this version for the instruction Pi-11 till Pi-16 the outside temperature and air quality are not used\n",
    "# as the Pi-11 Pi-16 have only digital I/O and 1 high accuracy temperature sensor\n",
    "#\n",
    "# for the instruction Pi you need to change in line 16 the IP number from 10.0.0.10 to 10.0.0.1x with 1<x<6\n",
    "# and if Pi is behind firewall then call 10.0.0.254:54844 in case of Pi-4 (of else 54840+1x)\n",
    "\n",
    "from opcua import Client\n",
    "import time\n",
    "\n",
    "url = \"opc.tcp://localhost:4840\"\n",
    "# option 1: localhost if run on the Pi itself, you can write opc.tcp://localhost:4840\"\n",
    "# option 2: 192-net url= \"opc.tcp://192.168.0.4 if the Pi=192.168.0.4 and the client is on another node in 192.168.0.0/24\n",
    "# option 3: 10-net with firewall url =\"opc.tcp://10.0.0.254:54840+your pi nr, e.g. Pi-11 goes to 54851\n",
    "# which is translated into 192.168.0.4:4840 by the firewall/router DSTNAT"
   ]
  },
  {
   "cell_type": "markdown",
   "metadata": {},
   "source": [
    "The client is rather straightforward. \n",
    "\n",
    "Load OPC Client library, connect client to the server (the url which needed the IP nr of the server (and port on which the OPC-server is writting).\n",
    "\n",
    "But notice the options 1-3 above in the code comment. The url is similar to http://ip-nr:80 where for a webpage on a server at ip-nr the http server communicates on IP port 80, so with OPC, running over TCP (of TCP/IP) in general uses as standard port 4840 resulting in opc.tcp://ip-nr:4840\n",
    "\n",
    "Once connected, update on the console/terminal mode, the OPC values you receive. \n",
    "\n",
    "The trick with the connect is that with OPC-UA you first read the OPC-server object data base to determine which variable that OPC server has to offer (and at which format and memory location). Once that connect has been succesful, and you figured out the variables you can start reading them. \n",
    "\n",
    "In our case we hard coded the variables as we know the layout of the static OPC server structure we use in 20/21-grove-opc programs. "
   ]
  },
  {
   "cell_type": "code",
   "execution_count": null,
   "metadata": {},
   "outputs": [],
   "source": [
    "client = Client(url)\n",
    "client.connect()\n",
    "print(\"Client is connected\")\n",
    "print(\"                                             T = temperature in Celsius\")\n",
    "print(\"time     trigger  warehouse-state outside-door  inside-door T-doors, T-warehouse\")\n",
    "\n",
    "while True:\n",
    "    try:\n",
    "        temperature_time = client.get_node(\"ns=2;i=2\")\n",
    "        trigger = client.get_node(\"ns=2;i=3\")\n",
    "        warehouse_state = client.get_node(\"ns=2;i=4\")\n",
    "        door_outside = client.get_node(\"ns=2;i=5\")\n",
    "        door_inside = client.get_node(\"ns=2;i=6\")\n",
    "        temperature_doors = client.get_node(\"ns=2;i=7\")\n",
    "        temperature_warehouse = client.get_node(\"ns=2;i=8\")\n",
    "        print('{} '.format(temperature_time.get_value().strftime(\"%X\")), \"  \",\n",
    "              trigger.get_value(), \"     \",\n",
    "              int(warehouse_state.get_value()), \"          \",\n",
    "              int(door_outside.get_value()), \"           \",\n",
    "              int(door_inside.get_value()), \"         \",\n",
    "              temperature_doors.get_value(), \" \",\n",
    "              temperature_warehouse.get_value())\n",
    "        time.sleep(5)\n",
    "    except KeyboardInterrupt:\n",
    "        client.disconnect()\n",
    "        exit(1)"
   ]
  }
 ],
 "metadata": {
  "kernelspec": {
   "display_name": "Python 3",
   "language": "python",
   "name": "python3"
  },
  "language_info": {
   "codemirror_mode": {
    "name": "ipython",
    "version": 3
   },
   "file_extension": ".py",
   "mimetype": "text/x-python",
   "name": "python",
   "nbconvert_exporter": "python",
   "pygments_lexer": "ipython3",
   "version": "3.7.6"
  }
 },
 "nbformat": 4,
 "nbformat_minor": 4
}
